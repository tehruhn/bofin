{
 "cells": [
  {
   "cell_type": "markdown",
   "metadata": {},
   "source": [
    "# Example 1c: Spin-bath model (pure dephasing)\n",
    "\n",
    "### Introduction"
   ]
  },
  {
   "cell_type": "markdown",
   "metadata": {},
   "source": [
    "The HEOM method solves the dynamics and steady state of a system and its environment, the latter of which is encoded in a set of auxiliary density matrices.\n",
    "\n",
    "In this example we show the evolution of a single two-level system in contact with a single Bosonic environment.  The properties of the system are encoded in Hamiltonian, and a coupling operator which describes how it is coupled to the environment.\n",
    "\n",
    "The Bosonic environment is implicitly assumed to obey a particular Hamiltonian (see paper), the parameters of which are encoded in the spectral density, and subsequently the free-bath correlation functions.\n",
    "\n",
    "In the example below we show how to model the overdamped Drude-Lorentz Spectral Density, commonly used with the HEOM. We show how to do the Matsubara and Pade analytical decompositions, as well as how to fit the latter with a finite set of approximate exponentials.  This differs from examble 1a in that we assume the system and coupling parts of the Hamiltonian commute, hence giving an analytically solvable ''pure dephasing'' model. This is a useful example to look at when introducing other approximations  (e.g., fitting of correlation functions) to check for validity/convergence against the analytical results.  (Note that, generally, for the fitting examples, the pure dephasing model is the 'worst possible case'.  \n",
    "\n",
    "### Drude-Lorentz spectral density\n",
    "The Drude-Lorentz spectral density is:\n",
    "\n",
    "$$J(\\omega)=\\omega \\frac{2\\lambda\\gamma}{{\\gamma}^2 + \\omega^2}$$\n",
    "\n",
    "where $\\lambda$ scales the coupling strength, and $\\gamma$ is the cut-off frequency.\n",
    "\n",
    "With the HEOM we must use an exponential decomposition:\n",
    "\n",
    "\\begin{equation*}\n",
    "C(t)=\\sum_{k=0}^{k=\\infty} c_k e^{-\\nu_k t}\n",
    "\\end{equation*}\n",
    "\n",
    "The Matsubara decomposition of the Drude-Lorentz spectral density is given by:\n",
    "\n",
    "\\begin{equation*}\n",
    "    \\nu_k = \\begin{cases}\n",
    "               \\gamma               & k = 0\\\\\n",
    "               {2 \\pi k} / {\\beta \\hbar}  & k \\geq 1\\\\\n",
    "           \\end{cases}\n",
    "\\end{equation*}\n",
    "\n",
    "\\begin{equation*}\n",
    "    c_k = \\begin{cases}\n",
    "               \\lambda \\gamma (\\cot(\\beta \\gamma / 2) - i) / \\hbar               & k = 0\\\\\n",
    "               4 \\lambda \\gamma \\nu_k / \\{(nu_k^2 - \\gamma^2)\\beta \\hbar^2 \\}    & k \\geq 1\\\\\n",
    "           \\end{cases}\n",
    "\\end{equation*}\n",
    "\n"
   ]
  },
  {
   "cell_type": "code",
   "execution_count": 1,
   "metadata": {},
   "outputs": [
    {
     "name": "stdout",
     "output_type": "stream",
     "text": [
      "Populating the interactive namespace from numpy and matplotlib\n"
     ]
    }
   ],
   "source": [
    "%pylab inline\n",
    "from qutip import *"
   ]
  },
  {
   "cell_type": "code",
   "execution_count": 2,
   "metadata": {},
   "outputs": [],
   "source": [
    "from qutip.ipynbtools import HTMLProgressBar"
   ]
  },
  {
   "cell_type": "code",
   "execution_count": 3,
   "metadata": {},
   "outputs": [],
   "source": [
    "\n",
    "from bofin.heom import BosonicHEOMSolver"
   ]
  },
  {
   "cell_type": "code",
   "execution_count": 4,
   "metadata": {},
   "outputs": [],
   "source": [
    "\n",
    "def cot(x):\n",
    "    return 1./np.tan(x)"
   ]
  },
  {
   "cell_type": "markdown",
   "metadata": {},
   "source": [
    "Here we set $H_{sys}=0$, which means the interaction Hamiltonian and the system Hamiltonian commute, and we can compare the numerical results to a known analytical one.  We can in principle keep $\\epsilon \\neq 0$, but it jsut introduces fast system oscillations, so it is more convenient to set it to zero also."
   ]
  },
  {
   "cell_type": "code",
   "execution_count": 5,
   "metadata": {},
   "outputs": [],
   "source": [
    "# Defining the system Hamiltonian\n",
    "eps = 0.     # Energy of the 2-level system.\n",
    "Del = 0.    # Tunnelling term\n",
    "Hsys = 0.5 * eps * sigmaz() + 0.5 * Del* sigmax()"
   ]
  },
  {
   "cell_type": "code",
   "execution_count": 6,
   "metadata": {},
   "outputs": [],
   "source": [
    "# System-bath coupling (Drude-Lorentz spectral density)\n",
    "Q = sigmaz() # coupling operator\n",
    "\n",
    "tlist = np.linspace(0, 50, 1000)\n",
    "\n",
    "#Bath properties:\n",
    "gamma = .5 # cut off frequency\n",
    "#gamma = 0.1\n",
    "lam = .1 # coupling strenght\n",
    "T = .5\n",
    "beta = 1./T\n",
    "#HEOM parameters\n",
    "\n",
    "NC = 6 # cut off parameter for the bath"
   ]
  },
  {
   "cell_type": "code",
   "execution_count": 7,
   "metadata": {},
   "outputs": [],
   "source": [
    "\n",
    "\n",
    "Nk = 3 # number of exponentials in approximation of the the spectral density\n",
    "\n",
    "pref = 1.\n",
    "\n",
    "ckAR = [pref * lam * gamma * (cot(gamma / (2 * T))) + 0.j]\n",
    "ckAR.extend([(pref * 4 * lam * gamma * T *  2 * np.pi * k * T / (( 2 * np.pi * k * T)**2 - gamma**2))+0.j for k in range(1,Nk)])\n",
    "\n",
    "vkAR = [gamma+0.j]\n",
    "vkAR.extend([2 * np.pi * k * T + 0.j for k in range(1,Nk)])\n",
    "\n",
    "ckAI = [pref * lam * gamma * (-1.0) + 0.j]\n",
    "\n",
    "vkAI = [gamma+0.j]\n",
    "\n",
    "\n"
   ]
  },
  {
   "cell_type": "code",
   "execution_count": 8,
   "metadata": {},
   "outputs": [
    {
     "name": "stdout",
     "output_type": "stream",
     "text": [
      "[Quantum object: dims = [[2], [2]], shape = (2, 2), type = oper, isherm = True\n",
      "Qobj data =\n",
      "[[ 1.  0.]\n",
      " [ 0. -1.]], Quantum object: dims = [[2], [2]], shape = (2, 2), type = oper, isherm = True\n",
      "Qobj data =\n",
      "[[ 1.  0.]\n",
      " [ 0. -1.]], Quantum object: dims = [[2], [2]], shape = (2, 2), type = oper, isherm = True\n",
      "Qobj data =\n",
      "[[ 1.  0.]\n",
      " [ 0. -1.]], Quantum object: dims = [[2], [2]], shape = (2, 2), type = oper, isherm = True\n",
      "Qobj data =\n",
      "[[ 1.  0.]\n",
      " [ 0. -1.]]]\n"
     ]
    },
    {
     "name": "stderr",
     "output_type": "stream",
     "text": [
      "e:\\my documents\\github\\bofin\\bofin\\heom.py:311: UserWarning: Two similar real and imag exponents have been collated automatically.\n",
      "  warnings.warn(\n"
     ]
    }
   ],
   "source": [
    "\n",
    "NR = len(ckAR)\n",
    "NI = len(ckAI)\n",
    "Q2 = [Q for kk in range(NR+NI)]\n",
    "print(Q2)\n",
    "options = Options(nsteps=15000, store_states=True, rtol=1e-14, atol=1e-14)\n",
    "\n",
    "HEOMMats = BosonicHEOMSolver(Hsys, Q2, ckAR, ckAI, vkAR, vkAI, NC, options=options)\n"
   ]
  },
  {
   "cell_type": "markdown",
   "metadata": {},
   "source": [
    "#### To get a non-trivial result we prepare the initial state in a superposition, and see how the bath destroys the coherence"
   ]
  },
  {
   "cell_type": "code",
   "execution_count": 9,
   "metadata": {},
   "outputs": [],
   "source": [
    "# Initial state of the system.\n",
    "\n",
    "psi = (basis(2,0) + basis(2,1))/sqrt(2)\n",
    "\n",
    "rho0 = psi * psi.dag()\n",
    "\n",
    "\n",
    "resultMats = HEOMMats.run(rho0, tlist)\n"
   ]
  },
  {
   "cell_type": "code",
   "execution_count": 10,
   "metadata": {},
   "outputs": [],
   "source": [
    "# Define some operators with which we will measure the system\n",
    "# 1,1 element of density matrix - corresonding to groundstate\n",
    "P11p=basis(2,0) * basis(2,0).dag()\n",
    "P22p=basis(2,1) * basis(2,1).dag()\n",
    "# 1,2 element of density matrix  - corresonding to coherence\n",
    "P12p=basis(2,0) * basis(2,1).dag()\n",
    "# Calculate expectation values in the bases\n",
    "P11exp = expect(resultMats.states, P11p)\n",
    "P22exp = expect(resultMats.states, P22p)\n",
    "P12exp = expect(resultMats.states, P12p)"
   ]
  },
  {
   "cell_type": "code",
   "execution_count": 11,
   "metadata": {},
   "outputs": [
    {
     "name": "stdout",
     "output_type": "stream",
     "text": [
      "[Quantum object: dims = [[2], [2]], shape = (2, 2), type = oper, isherm = True\n",
      "Qobj data =\n",
      "[[ 1.  0.]\n",
      " [ 0. -1.]], Quantum object: dims = [[2], [2]], shape = (2, 2), type = oper, isherm = True\n",
      "Qobj data =\n",
      "[[ 1.  0.]\n",
      " [ 0. -1.]], Quantum object: dims = [[2], [2]], shape = (2, 2), type = oper, isherm = True\n",
      "Qobj data =\n",
      "[[ 1.  0.]\n",
      " [ 0. -1.]], Quantum object: dims = [[2], [2]], shape = (2, 2), type = oper, isherm = True\n",
      "Qobj data =\n",
      "[[ 1.  0.]\n",
      " [ 0. -1.]]]\n"
     ]
    }
   ],
   "source": [
    "#do version with tanimura terminator\n",
    "\n",
    "op = -2*spre(Q)*spost(Q.dag()) + spre(Q.dag()*Q) + spost(Q.dag()*Q)\n",
    "\n",
    "approx_factr = ((2 * lam / (beta * gamma)) - 1j*lam) \n",
    "\n",
    "approx_factr -=  lam * gamma * (-1.0j + cot(gamma / (2 * T)))/gamma\n",
    "for k in range(1,Nk):\n",
    "    vk = 2 * np.pi * k * T\n",
    "    #c_temp.append((pref * 4 * lam * gamma * T * vk / (vk**2 - gamma**2))  * np.exp(- vk * t) ) \n",
    "    approx_factr -= ((pref * 4 * lam * gamma * T * vk / (vk**2 - gamma**2))/ vk)\n",
    "    #approx_factr -= (c[k] / nu[k])\n",
    "L_bnd = -approx_factr*op\n",
    "\n",
    "Ltot = -1.0j*(spre(Hsys)-spost(Hsys)) + L_bnd\n",
    "Ltot = liouvillian(Hsys) + L_bnd\n",
    "\n",
    "NR = len(ckAR)\n",
    "NI = len(ckAI)\n",
    "Q2 = [Q for kk in range(NR+NI)]\n",
    "print(Q2)\n",
    "options = Options(nsteps=15000, store_states=True, rtol=1e-14, atol=1e-14)\n",
    "\n",
    "HEOMMatsT = BosonicHEOMSolver(Ltot, Q2, ckAR, ckAI, vkAR, vkAI, NC, options=options)\n",
    "\n",
    "resultMatsT = HEOMMatsT.run(rho0, tlist)\n"
   ]
  },
  {
   "cell_type": "code",
   "execution_count": 12,
   "metadata": {},
   "outputs": [],
   "source": [
    "# Define some operators with which we will measure the system\n",
    "# 1,1 element of density matrix - corresonding to groundstate\n",
    "P11p=basis(2,0) * basis(2,0).dag()\n",
    "P22p=basis(2,1) * basis(2,1).dag()\n",
    "# 1,2 element of density matrix  - corresonding to coherence\n",
    "P12p=basis(2,0) * basis(2,1).dag()\n",
    "# Calculate expectation values in the bases\n",
    "P11expT = expect(resultMatsT.states, P11p)\n",
    "P22expT = expect(resultMatsT.states, P22p)\n",
    "P12expT = expect(resultMatsT.states, P12p)"
   ]
  },
  {
   "cell_type": "code",
   "execution_count": 13,
   "metadata": {},
   "outputs": [
    {
     "data": {
      "text/plain": [
       "<matplotlib.legend.Legend at 0x295a81e1220>"
      ]
     },
     "execution_count": 13,
     "metadata": {},
     "output_type": "execute_result"
    },
    {
     "data": {
      "image/png": "[encoded data removed]",
      "text/plain": [
       "<Figure size 576x576 with 1 Axes>"
      ]
     },
     "metadata": {
      "needs_background": "light"
     },
     "output_type": "display_data"
    }
   ],
   "source": [
    "\n",
    "# Plot the results\n",
    "fig, axes = plt.subplots(1, 1, sharex=True, figsize=(8,8))\n",
    "#axes.plot(tlist, np.real(P11exp)+ np.real(P22exp), 'b', linewidth=2, label=\"P11\")\n",
    "axes.plot(tlist, np.real(P11exp), 'b', linewidth=2, label=\"P11 Matsubara\")\n",
    "axes.plot(tlist, np.real(P12exp), 'r', linewidth=2, label=\"P12 Matsubara\")\n",
    "axes.plot(tlist, np.real(P11expT), 'b--', linewidth=2, label=\"P11 Matsubara and terminator\")\n",
    "axes.plot(tlist, np.real(P12expT), 'r--', linewidth=2, label=\"P12 Matsubara and terminator\")\n",
    "axes.set_xlabel(r't', fontsize=28)\n",
    "axes.legend(loc=0, fontsize=12)"
   ]
  },
  {
   "cell_type": "markdown",
   "metadata": {},
   "source": [
    "As in example 1a, we can compare to Pade and Fitting approaches. First, the Pade decomposition:"
   ]
  },
  {
   "cell_type": "code",
   "execution_count": 14,
   "metadata": {},
   "outputs": [],
   "source": [
    "\n",
    "\n",
    "lmax = 3\n",
    "\n",
    "def deltafun(j,k):\n",
    "    if j==k: \n",
    "        return 1.\n",
    "    else:\n",
    "        return 0.\n",
    "\n",
    "\n",
    "\n",
    "\n",
    "Alpha =np.zeros((2*lmax,2*lmax))\n",
    "for j in range(2*lmax):\n",
    "    for k in range(2*lmax):\n",
    "        #Alpha[j][k] = (deltafun(j,k+1)+deltafun(j,k-1))/sqrt((2*(j+1)-1)*(2*(k+1)-1)) #fermi\n",
    "        Alpha[j][k] = (deltafun(j,k+1)+deltafun(j,k-1))/sqrt((2*(j+1)+1)*(2*(k+1)+1)) #bose\n",
    "        \n",
    "eigvalsA=eigvalsh(Alpha)  \n",
    "\n",
    "eps = []\n",
    "for val in  eigvalsA[0:lmax]:\n",
    "    #print(-2/val)\n",
    "    eps.append(-2/val)\n",
    "    \n",
    "\n",
    "AlphaP =np.zeros((2*lmax-1,2*lmax-1))\n",
    "for j in range(2*lmax-1):\n",
    "    for k in range(2*lmax-1):\n",
    "        #AlphaP[j][k] = (deltafun(j,k+1)+deltafun(j,k-1))/sqrt((2*(j+1)+1)*(2*(k+1)+1)) #fermi\n",
    "        \n",
    "        AlphaP[j][k] = (deltafun(j,k+1)+deltafun(j,k-1))/sqrt((2*(j+1)+3)*(2*(k+1)+3)) #Bos: This is +3 because +1 (bose) + 2*(+1)(from bm+1)\n",
    "        \n",
    "eigvalsAP=eigvalsh(AlphaP)    \n",
    "\n",
    "\n",
    "chi = []\n",
    "for val in  eigvalsAP[0:lmax-1]:\n",
    "    #print(-2/val)\n",
    "    chi.append(-2/val)\n",
    "\n",
    "eta_list = []\n",
    "prefactor = 0.5*lmax*(2*(lmax + 1) + 1)\n",
    "\n",
    "for j in range(lmax):\n",
    "    term = prefactor\n",
    "    for k1 in range(lmax - 1):\n",
    "        term *= (chi[k1]**2 - eps[j]**2)/(eps[k1]**2 - eps[j]**2 + deltafun(j,k1))        \n",
    "    #term2 = 1\n",
    "    for k2 in range(lmax-1,lmax):\n",
    "        term /= (eps[k2]**2 - eps[j]**2 + deltafun(j,k2))\n",
    "        #print(term2)\n",
    "        \n",
    "    eta_list.append(term)\n",
    "\n",
    "kappa = [0]+eta_list\n",
    "\n",
    "epsilon = [0]+eps\n",
    "\n",
    "\n",
    "\n",
    "beta = 1/T\n",
    "\n",
    "def f_approx(x):\n",
    "    f = 0.5\n",
    "    for l in range(1,lmax+1):\n",
    "        f= f - 2*kappa[l]*x/(x**2+epsilon[l]**2)\n",
    "    return f\n",
    "\n",
    "def f(x):\n",
    "    kB=1.\n",
    "    return 1/(1-exp(-x)) #this is n(w)+1  btw! (for bosons)\n",
    "\n",
    "\n",
    "def C(tlist):\n",
    "    eta_list = []\n",
    "    gamma_list  =[]\n",
    "    \n",
    "   \n",
    "    eta_0 =lam*gamma*(1.0/np.tan(gamma*beta/2.0) - 1.0j)\n",
    "    gamma_0 = gamma\n",
    "    eta_list.append(eta_0)\n",
    "    gamma_list.append(gamma_0)\n",
    "    if lmax>0:\n",
    "        for l in range(1,lmax+1):\n",
    "            eta_list.append((kappa[l]/beta)*4*lam*gamma*(epsilon[l]/beta)/((epsilon[l]**2/beta**2)-gamma**2))\n",
    "            gamma_list.append(epsilon[l]/beta)\n",
    "            \n",
    "     \n",
    "    c_tot = []\n",
    "    for t in tlist:\n",
    "        c_tot.append(sum([eta_list[l]*exp(-gamma_list[l]*t) for l in range(lmax+1)]))\n",
    "    return c_tot, eta_list, gamma_list\n",
    "\n",
    "\n",
    "cppLP,etapLP,gampLP = C(tlist)\n",
    "\n",
    "\n"
   ]
  },
  {
   "cell_type": "code",
   "execution_count": 15,
   "metadata": {},
   "outputs": [],
   "source": [
    "\n",
    "ckAR = [real(eta) +0j for eta in etapLP]\n",
    "ckAI = [imag(etapLP[0]) + 0j]"
   ]
  },
  {
   "cell_type": "code",
   "execution_count": 16,
   "metadata": {},
   "outputs": [],
   "source": [
    "vkAR = [gam +0j for gam in gampLP]\n",
    "vkAI = [gampLP[0] + 0j]\n"
   ]
  },
  {
   "cell_type": "code",
   "execution_count": 17,
   "metadata": {},
   "outputs": [
    {
     "name": "stdout",
     "output_type": "stream",
     "text": [
      "[Quantum object: dims = [[2], [2]], shape = (2, 2), type = oper, isherm = True\n",
      "Qobj data =\n",
      "[[ 1.  0.]\n",
      " [ 0. -1.]], Quantum object: dims = [[2], [2]], shape = (2, 2), type = oper, isherm = True\n",
      "Qobj data =\n",
      "[[ 1.  0.]\n",
      " [ 0. -1.]], Quantum object: dims = [[2], [2]], shape = (2, 2), type = oper, isherm = True\n",
      "Qobj data =\n",
      "[[ 1.  0.]\n",
      " [ 0. -1.]], Quantum object: dims = [[2], [2]], shape = (2, 2), type = oper, isherm = True\n",
      "Qobj data =\n",
      "[[ 1.  0.]\n",
      " [ 0. -1.]], Quantum object: dims = [[2], [2]], shape = (2, 2), type = oper, isherm = True\n",
      "Qobj data =\n",
      "[[ 1.  0.]\n",
      " [ 0. -1.]]]\n"
     ]
    },
    {
     "name": "stderr",
     "output_type": "stream",
     "text": [
      "e:\\my documents\\github\\bofin\\bofin\\heom.py:311: UserWarning: Two similar real and imag exponents have been collated automatically.\n",
      "  warnings.warn(\n"
     ]
    }
   ],
   "source": [
    "\n",
    "\n",
    "NR = len(ckAR)\n",
    "NI = len(ckAI)\n",
    "Q2 = [Q for kk in range(NR+NI)]\n",
    "print(Q2)\n",
    "options = Options(nsteps=15000, store_states=True, rtol=1e-14, atol=1e-14)\n",
    "\n",
    "HEOMPade = BosonicHEOMSolver(Hsys, Q2, ckAR, ckAI, vkAR, vkAI, NC, options=options)\n",
    "\n",
    "\n",
    "\n",
    "resultPade = HEOMPade.run(rho0, tlist)"
   ]
  },
  {
   "cell_type": "code",
   "execution_count": 18,
   "metadata": {},
   "outputs": [
    {
     "data": {
      "text/plain": [
       "<matplotlib.legend.Legend at 0x295a84566a0>"
      ]
     },
     "execution_count": 18,
     "metadata": {},
     "output_type": "execute_result"
    },
    {
     "data": {
      "image/png": "[encoded data removed]",
      "text/plain": [
       "<Figure size 576x576 with 1 Axes>"
      ]
     },
     "metadata": {
      "needs_background": "light"
     },
     "output_type": "display_data"
    }
   ],
   "source": [
    "\n",
    "#10\n",
    "# Define some operators with which we will measure the system\n",
    "# 1,1 element of density matrix - corresonding to groundstate\n",
    "P11p=basis(2,0) * basis(2,0).dag()\n",
    "P22p=basis(2,1) * basis(2,1).dag()\n",
    "# 1,2 element of density matrix  - corresonding to coherence\n",
    "P12p=basis(2,0) * basis(2,1).dag()\n",
    "# Calculate expectation values in the bases\n",
    "P11expP = expect(resultPade.states, P11p)\n",
    "P22expP = expect(resultPade.states, P22p)\n",
    "P12expP = expect(resultPade.states, P12p)\n",
    "\n",
    "# Plot the results\n",
    "fig, axes = plt.subplots(1, 1, sharex=True, figsize=(8,8))\n",
    "\n",
    "axes.plot(tlist, np.real(P11exp), 'b', linewidth=2, label=\"P11 Matsubara\")\n",
    "axes.plot(tlist, np.real(P11expP), 'b--', linewidth=2, label=\"P11 Pade\")\n",
    "axes.plot(tlist, np.real(P12exp), 'r', linewidth=2, label=\"P12 Matsubara\")\n",
    "axes.plot(tlist, np.real(P12expP), 'r--', linewidth=2, label=\"P12 Pade\")\n",
    "axes.set_xlabel(r't', fontsize=28)\n",
    "axes.legend(loc=0, fontsize=12)"
   ]
  },
  {
   "cell_type": "markdown",
   "metadata": {},
   "source": [
    "Next, the fitting approach:\n",
    "\n"
   ]
  },
  {
   "cell_type": "code",
   "execution_count": 19,
   "metadata": {},
   "outputs": [],
   "source": [
    "\n",
    "tlist2= linspace(0,2,10000)\n",
    "\n",
    "\n",
    "lmaxmats = 15000\n",
    "\n",
    "def c(t,anamax):\n",
    "\n",
    "    c_temp = (pref * lam * gamma * (-1.0j + cot(gamma / (2 * T))) * np.exp(-gamma * t))\n",
    "    for k in range(1, anamax):\n",
    "        vk = 2 * np.pi * k * T\n",
    "        c_temp += ((pref * 4 * lam * gamma * T * vk / (vk**2 - gamma**2))  * np.exp(- vk * t) ) \n",
    "        \n",
    "    \n",
    "    return c_temp\n",
    "\n",
    "# Reals parts\n",
    "corrRana = [np.real(c(t,lmaxmats)) for t in tlist2]\n",
    "# Imaginary parts\n",
    "corrIana = [np.imag((pref * lam * gamma * (-1.0j + cot(gamma / (2 * T))) * np.exp(-gamma * t))) for t in tlist2]\n",
    "\n"
   ]
  },
  {
   "cell_type": "code",
   "execution_count": 21,
   "metadata": {},
   "outputs": [
    {
     "name": "stdout",
     "output_type": "stream",
     "text": [
      "1\n",
      "2\n",
      "3\n",
      "4\n"
     ]
    },
    {
     "data": {
      "image/png": "[encoded data removed]",
      "text/plain": [
       "<Figure size 432x288 with 1 Axes>"
      ]
     },
     "metadata": {
      "needs_background": "light"
     },
     "output_type": "display_data"
    },
    {
     "data": {
      "image/png": "[encoded data removed]",
      "text/plain": [
       "<Figure size 432x288 with 1 Axes>"
      ]
     },
     "metadata": {
      "needs_background": "light"
     },
     "output_type": "display_data"
    },
    {
     "data": {
      "image/png": "[encoded data removed]",
      "text/plain": [
       "<Figure size 432x288 with 1 Axes>"
      ]
     },
     "metadata": {
      "needs_background": "light"
     },
     "output_type": "display_data"
    },
    {
     "data": {
      "image/png": "[encoded data removed]",
      "text/plain": [
       "<Figure size 432x288 with 1 Axes>"
      ]
     },
     "metadata": {
      "needs_background": "light"
     },
     "output_type": "display_data"
    },
    {
     "name": "stdout",
     "output_type": "stream",
     "text": [
      "1\n"
     ]
    },
    {
     "data": {
      "image/png": "[encoded data removed]",
      "text/plain": [
       "<Figure size 432x288 with 1 Axes>"
      ]
     },
     "metadata": {
      "needs_background": "light"
     },
     "output_type": "display_data"
    }
   ],
   "source": [
    "\n",
    "\n",
    "from scipy.optimize import curve_fit\n",
    "def wrapper_fit_func(x, N, *args):\n",
    "    a, b = list(args[0][:N]), list(args[0][N:2*N])\n",
    "    # print(\"debug\")\n",
    "    return fit_func(x, a, b, N)\n",
    "\n",
    "# actual fitting function\n",
    "def fit_func(x, a, b, N):\n",
    "    tot = 0\n",
    "    for i in range(N):\n",
    "        # print(i)\n",
    "        tot += a[i]*np.exp(b[i]*x)\n",
    "    return tot\n",
    "\n",
    "\n",
    "def fitter(ans, tlist, k):\n",
    "    # the actual computing of fit\n",
    "    popt = []\n",
    "    pcov = [] \n",
    "    # tries to fit for k exponents\n",
    "    for i in range(k):\n",
    "        params_0 = [0]*(2*(i+1))\n",
    "        upper_a = abs(max(ans, key = abs))*10\n",
    "        #sets initial guess\n",
    "        guess = []\n",
    "        aguess = [ans[0]]*(i+1)#[max(ans)]*(i+1)\n",
    "        bguess = [0]*(i+1)\n",
    "        guess.extend(aguess)\n",
    "        guess.extend(bguess)\n",
    "        # sets bounds\n",
    "        # a's = anything , b's negative\n",
    "        # sets lower bound\n",
    "        b_lower = []\n",
    "        alower = [-upper_a]*(i+1)\n",
    "        blower = [-np.inf]*(i+1)\n",
    "        b_lower.extend(alower)\n",
    "        b_lower.extend(blower)\n",
    "        # sets higher bound\n",
    "        b_higher = []\n",
    "        ahigher = [upper_a]*(i+1)\n",
    "        bhigher = [0]*(i+1)\n",
    "        b_higher.extend(ahigher)\n",
    "        b_higher.extend(bhigher)\n",
    "        param_bounds = (b_lower, b_higher)\n",
    "        p1, p2 = curve_fit(lambda x, *params_0: wrapper_fit_func(x, i+1, \\\n",
    "            params_0), tlist, ans, p0=guess, sigma=[0.01 for t in tlist2], bounds = param_bounds,maxfev = 1e8)\n",
    "        popt.append(p1)\n",
    "        pcov.append(p2)\n",
    "        print(i+1)\n",
    "    return popt\n",
    "# print(popt)\n",
    "\n",
    "# function that evaluates values with fitted params at\n",
    "# given inputs\n",
    "def checker(tlist, vals):\n",
    "    y = []\n",
    "    for i in tlist:\n",
    "        # print(i)\n",
    "        y.append(wrapper_fit_func(i, int(len(vals)/2), vals))\n",
    "    return y\n",
    "\n",
    "k = 4\n",
    "popt1 = fitter(corrRana, tlist2, k)\n",
    "for i in range(k):\n",
    "    y = checker(tlist2, popt1[i])\n",
    "    plt.plot(tlist2, corrRana, tlist2, y)\n",
    "    plt.show()\n",
    "\n",
    "k1 = 1\n",
    "popt2 = fitter(corrIana, tlist2, k1)\n",
    "for i in range(k1):\n",
    "    y = checker(tlist2, popt2[i])\n",
    "    plt.plot(tlist2, corrIana, tlist2, y)\n",
    "    plt.show()  \n"
   ]
  },
  {
   "cell_type": "code",
   "execution_count": 22,
   "metadata": {},
   "outputs": [],
   "source": [
    "ckAR1 = list(popt1[k-1])[:len(list(popt1[k-1]))//2]\n",
    "ckAR = [x+0j for x in ckAR1]\n",
    "ckAI1 = list(popt2[k1-1])[:len(list(popt2[k1-1]))//2]\n",
    "#minus?wtfiforgotagain\n",
    "ckAI = [x+0j for x in ckAI1]\n",
    "# vkAR, vkAI\n",
    "vkAR1 = list(popt1[k-1])[len(list(popt1[k-1]))//2:]\n",
    "vkAR = [-x+0j for x in vkAR1]\n",
    "vkAI1 = list(popt2[k1-1])[len(list(popt2[k1-1]))//2:]\n",
    "vkAI = [-x+0j for x in vkAI1]\n",
    "# NC, NR, NI\n",
    "# print(np.array(H).shape, np.array(Q).shape)\n",
    "NC = 8\n",
    "NR = len(ckAR)\n",
    "NI = len(ckAI)\n",
    "\n",
    "options = Options(nsteps=15000, store_states=True, rtol=1e-14, atol=1e-14)\n"
   ]
  },
  {
   "cell_type": "code",
   "execution_count": 26,
   "metadata": {},
   "outputs": [],
   "source": [
    "#overwrite imaginary fit with analytical value jsut in case\n",
    "\n",
    "ckAI = [pref * lam * gamma * (-1.0) + 0.j]\n",
    "\n",
    "vkAI = [gamma+0.j]\n"
   ]
  },
  {
   "cell_type": "code",
   "execution_count": 27,
   "metadata": {},
   "outputs": [],
   "source": [
    "\n",
    "\n",
    "\n",
    "NR = len(ckAR)\n",
    "NI = len(ckAI)\n",
    "Q2 = [Q for kk in range(NR+NI)]\n",
    "\n",
    "options = Options(nsteps=15000, store_states=True, rtol=1e-14, atol=1e-14)\n",
    "\n",
    "HEOMFit = BosonicHEOMSolver(Hsys, Q2, ckAR, ckAI, vkAR, vkAI, NC, options=options)\n"
   ]
  },
  {
   "cell_type": "code",
   "execution_count": 28,
   "metadata": {},
   "outputs": [],
   "source": [
    "\n",
    "\n",
    "resultFit = HEOMFit.run(rho0, tlist)"
   ]
  },
  {
   "cell_type": "code",
   "execution_count": 29,
   "metadata": {},
   "outputs": [
    {
     "name": "stdout",
     "output_type": "stream",
     "text": [
      "(6.754970739519044e-07+0j)\n",
      "(6.754970739519044e-07+0j)\n",
      "[Quantum object: dims = [[2], [2]], shape = (2, 2), type = oper, isherm = True\n",
      "Qobj data =\n",
      "[[ 1.  0.]\n",
      " [ 0. -1.]], Quantum object: dims = [[2], [2]], shape = (2, 2), type = oper, isherm = True\n",
      "Qobj data =\n",
      "[[ 1.  0.]\n",
      " [ 0. -1.]], Quantum object: dims = [[2], [2]], shape = (2, 2), type = oper, isherm = True\n",
      "Qobj data =\n",
      "[[ 1.  0.]\n",
      " [ 0. -1.]], Quantum object: dims = [[2], [2]], shape = (2, 2), type = oper, isherm = True\n",
      "Qobj data =\n",
      "[[ 1.  0.]\n",
      " [ 0. -1.]], Quantum object: dims = [[2], [2]], shape = (2, 2), type = oper, isherm = True\n",
      "Qobj data =\n",
      "[[ 1.  0.]\n",
      " [ 0. -1.]]]\n"
     ]
    }
   ],
   "source": [
    "\n",
    "\n",
    "\n",
    "#do version with tanimura terminator\n",
    "\n",
    "op = -2*spre(Q)*spost(Q.dag()) + spre(Q.dag()*Q) + spost(Q.dag()*Q)\n",
    "\n",
    "approx_factr = ((2 * lam / (beta * gamma)) - 1j*lam) \n",
    "\n",
    "approx_factr -=  lam * gamma * (-1.0j + cot(gamma / (2 * T)))/gamma\n",
    "\n",
    "for k in range(1,lmaxmats):\n",
    "    vk = 2 * np.pi * k * T\n",
    "    #c_temp.append((pref * 4 * lam * gamma * T * vk / (vk**2 - gamma**2))  * np.exp(- vk * t) ) \n",
    "    approx_factr -= ((pref * 4 * lam * gamma * T * vk / (vk**2 - gamma**2))/ vk)\n",
    "    #approx_factr -= (c[k] / nu[k])\n",
    "    \n",
    "print(approx_factr)\n",
    "L_bnd = -approx_factr*op\n",
    "print(approx_factr)\n",
    "Ltot = -1.0j*(spre(Hsys)-spost(Hsys)) + L_bnd\n",
    "#Ltot = liouvillian(Hsys) + L_bnd\n",
    "\n",
    "NR = len(ckAR)\n",
    "NI = len(ckAI)\n",
    "Q2 = [Q for kk in range(NR+NI)]\n",
    "print(Q2)\n",
    "options = Options(nsteps=15000, store_states=True, rtol=1e-14, atol=1e-14)\n",
    "\n",
    "\n",
    "NC= 10\n",
    "HEOMFitT = BosonicHEOMSolver(Ltot, Q2, ckAR, ckAI, vkAR, vkAI, NC, options=options)\n",
    "\n",
    "\n",
    "\n",
    "#resultFitTL5k2 = HEOMFitT.run(rho0, tlist)\n",
    "resultFitT = HEOMFitT.run(rho0, tlist)\n",
    "\n",
    "# Define some operators with which we will measure the system\n",
    "# 1,1 element of density matrix - corresonding to groundstate\n",
    "P11p=basis(2,0) * basis(2,0).dag()\n",
    "P22p=basis(2,1) * basis(2,1).dag()\n",
    "# 1,2 element of density matrix  - corresonding to coherence\n",
    "P12p=basis(2,0) * basis(2,1).dag()\n",
    "# Calculate expectation values in the bases\n",
    "P11expFT = expect(resultFitT.states, P11p)\n",
    "P22expFT = expect(resultFitT.states, P22p)\n",
    "P12expFT = expect(resultFitT.states, P12p)\n",
    "\n"
   ]
  },
  {
   "cell_type": "code",
   "execution_count": 28,
   "metadata": {},
   "outputs": [
    {
     "name": "stdout",
     "output_type": "stream",
     "text": [
      "(array([-0.,  0.]), array([Quantum object: dims = [[2], [1]], shape = (2, 1), type = ket\n",
      "Qobj data =\n",
      "[[-1.]\n",
      " [ 0.]],\n",
      "       Quantum object: dims = [[2], [1]], shape = (2, 1), type = ket\n",
      "Qobj data =\n",
      "[[0.]\n",
      " [1.]]], dtype=object))\n"
     ]
    }
   ],
   "source": [
    "print(Hsys.eigenstates())\n",
    "energies, states = Hsys.eigenstates()"
   ]
  },
  {
   "cell_type": "code",
   "execution_count": 28,
   "metadata": {},
   "outputs": [
    {
     "name": "stdout",
     "output_type": "stream",
     "text": [
      "(array([-0.,  0.]), array([Quantum object: dims = [[2], [1]], shape = (2, 1), type = ket\n",
      "Qobj data =\n",
      "[[-1.]\n",
      " [ 0.]],\n",
      "       Quantum object: dims = [[2], [1]], shape = (2, 1), type = ket\n",
      "Qobj data =\n",
      "[[0.]\n",
      " [1.]]], dtype=object))\n"
     ]
    }
   ],
   "source": [
    "\n",
    "energies, states = Hsys.eigenstates()\n",
    "rhoss = (states[0]*states[0].dag()*exp(-beta*energies[0]) + states[1]*states[1].dag()*exp(-beta*energies[1]))\n",
    "rhoss = rhoss/rhoss.norm()\n",
    "\n",
    "P12 = expect(rhoss,P12p)"
   ]
  },
  {
   "cell_type": "code",
   "execution_count": 29,
   "metadata": {},
   "outputs": [],
   "source": [
    "def pure_dephasing_evolution_analytical(tlist, wq, ck, vk):\n",
    "    \"\"\"\n",
    "    Computes the propagating function appearing in the pure dephasing model.\n",
    "        \n",
    "    Parameters\n",
    "    ----------\n",
    "    t: float\n",
    "        A float specifying the time at which to calculate the integral.\n",
    "    \n",
    "    wq: float\n",
    "        The qubit frequency in the Hamiltonian.\n",
    "\n",
    "    ck: ndarray\n",
    "        The list of coefficients in the correlation function.\n",
    "        \n",
    "    vk: ndarray\n",
    "        The list of frequencies in the correlation function.\n",
    "    \n",
    "    Returns\n",
    "    -------\n",
    "    integral: float\n",
    "        The value of the integral function at time t.\n",
    "    \"\"\"\n",
    "    evolution = np.array([np.exp(-1j*wq*t - correlation_integral(t, ck, vk)) for t in tlist])\n",
    "    return evolution\n",
    "\n",
    "def correlation_integral(t, ck, vk):\n",
    "    \"\"\"\n",
    "    Computes the integral sum function appearing in the pure dephasing model.\n",
    "    \n",
    "    If the correlation function is a sum of exponentials then this sum\n",
    "    is given by:\n",
    "    \n",
    "    .. math:\n",
    "        \n",
    "        \\int_0^{t}d\\tau D(\\tau) = \\sum_k\\frac{c_k}{\\mu_k^2}e^{\\mu_k t}\n",
    "        + \\frac{\\bar c_k}{\\bar \\mu_k^2}e^{\\bar \\mu_k t}\n",
    "        - \\frac{\\bar \\mu_k c_k + \\mu_k \\bar c_k}{\\mu_k \\bar \\mu_k} t\n",
    "        + \\frac{\\bar \\mu_k^2 c_k + \\mu_k^2 \\bar c_k}{\\mu_k^2 \\bar \\mu_k^2}\n",
    "        \n",
    "    Parameters\n",
    "    ----------\n",
    "    t: float\n",
    "        A float specifying the time at which to calculate the integral.\n",
    "    \n",
    "    ck: ndarray\n",
    "        The list of coefficients in the correlation function.\n",
    "        \n",
    "    vk: ndarray\n",
    "        The list of frequencies in the correlation function.\n",
    "    \n",
    "    Returns\n",
    "    -------\n",
    "    integral: float\n",
    "        The value of the integral function at time t.\n",
    "    \"\"\"\n",
    "    t1 = np.sum(np.multiply(np.divide(ck, vk**2), np.exp(vk*t) - 1))\n",
    "    \n",
    "    t2 = np.sum(np.multiply(np.divide(np.conjugate(ck), np.conjugate(vk)**2),\n",
    "                            np.exp(np.conjugate(vk)*t) - 1))\n",
    "    t3 = np.sum((np.divide(ck, vk) + np.divide(np.conjugate(ck), np.conjugate(vk)))*t)\n",
    "\n",
    "    return 2*(t1+t2-t3)"
   ]
  },
  {
   "cell_type": "markdown",
   "metadata": {},
   "source": [
    "For the pure dephasing analytics, we just sum up as many matsubara terms as we can"
   ]
  },
  {
   "cell_type": "code",
   "execution_count": 30,
   "metadata": {},
   "outputs": [],
   "source": [
    "\n",
    "lmaxmats2 =  15000\n",
    "\n",
    "\n",
    "\n",
    "ck = [pref * lam * gamma * (cot(gamma / (2 * T))) + pref * lam * gamma * (-1.0) * 1.j]\n",
    "ck.extend([(pref * 4 * lam * gamma * T *  2 * np.pi * k * T / (( 2 * np.pi * k * T)**2 - gamma**2))+0.j for k in range(1,lmaxmats2)])\n",
    "\n",
    "vk = [-gamma]\n",
    "vk.extend([-2 * np.pi * k * T + 0.j for k in range(1,lmaxmats2)])\n",
    "\n",
    "PEG_DL2 = 0.5*pure_dephasing_evolution_analytical(tlist, 0, asarray(ck), asarray(vk))"
   ]
  },
  {
   "cell_type": "code",
   "execution_count": 31,
   "metadata": {},
   "outputs": [],
   "source": [
    "import scipy as sp"
   ]
  },
  {
   "cell_type": "markdown",
   "metadata": {},
   "source": [
    "Alternatively, we can just do the integral of the propagator directly, without using the correlation functions at all"
   ]
  },
  {
   "cell_type": "code",
   "execution_count": 32,
   "metadata": {},
   "outputs": [
    {
     "name": "stderr",
     "output_type": "stream",
     "text": [
      "/home/neill/anaconda3/lib/python3.7/site-packages/scipy/integrate/quadpack.py:385: IntegrationWarning: The maximum number of subdivisions (50) has been achieved.\n",
      "  If increasing the limit yields no improvement it is advised to analyze \n",
      "  the integrand in order to determine the difficulties.  If the position of a \n",
      "  local difficulty can be determined (singularity, discontinuity) one will \n",
      "  probably gain from splitting up the interval and calling the integrator \n",
      "  on the subranges.  Perhaps a special-purpose integrator should be used.\n",
      "  warnings.warn(msg, IntegrationWarning)\n"
     ]
    }
   ],
   "source": [
    "coth = lambda x: 1/np.tanh(x)\n",
    "\n",
    "def JDL(omega,lamc,omega_c):\n",
    "    \n",
    "    return 2.*lamc*omega*omega_c/((omega_c**2)+omega**2)\n",
    "\n",
    "def integrand(omega,lamc,omega_c,Temp,t):\n",
    "   \n",
    "    return (-4.*JDL(omega,lamc,omega_c)/omega**2)*(1.-np.cos(omega*t))*(coth(omega/(2.*Temp)))/pi\n",
    "\n",
    "PEG_DL= [0.5*np.exp(sp.integrate.quad(integrand,0.0,np.inf,args=(lam,gamma,T,t,)))[0] for t in tlist]\n"
   ]
  },
  {
   "cell_type": "code",
   "execution_count": 33,
   "metadata": {},
   "outputs": [
    {
     "data": {
      "text/plain": [
       "<matplotlib.legend.Legend at 0x7f499c5c4690>"
      ]
     },
     "execution_count": 33,
     "metadata": {},
     "output_type": "execute_result"
    },
    {
     "data": {
      "image/png": "[encoded data removed]",
      "text/plain": [
       "<Figure size 576x576 with 1 Axes>"
      ]
     },
     "metadata": {
      "needs_background": "light"
     },
     "output_type": "display_data"
    }
   ],
   "source": [
    "# Define some operators with which we will measure the system\n",
    "# 1,1 element of density matrix - corresonding to groundstate\n",
    "P11p=basis(2,0) * basis(2,0).dag()\n",
    "P22p=basis(2,1) * basis(2,1).dag()\n",
    "# 1,2 element of density matrix  - corresonding to coherence\n",
    "P12p=basis(2,0) * basis(2,1).dag()\n",
    "# Calculate expectation values in the bases\n",
    "P11expF = expect(resultFit.states, P11p)\n",
    "P22expF = expect(resultFit.states, P22p)\n",
    "P12expF = expect(resultFit.states, P12p)\n",
    "\n",
    "# Plot the results\n",
    "fig, axes = plt.subplots(1, 1, sharex=True, figsize=(8,8))\n",
    "\n",
    "\n",
    "axes.plot(tlist, np.real(P12exp), 'r', linewidth=2, label=\"P12 Mats\")\n",
    "axes.plot(tlist, np.real(P12expP), 'b--', linewidth=2, label=\"P12 Pade\")\n",
    "axes.plot(tlist, np.real(P12expF), 'g', linewidth=2, label=\"P12 Fit\")\n",
    "\n",
    "axes.plot(tlist, np.real(P12expT), 'g--', linewidth=2, label=\"P12 Mats+Term\")\n",
    "\n",
    "axes.plot(tlist, np.real(PEG_DL), 'y--', linewidth=2, label=\"Analytic 1\")\n",
    "axes.plot(tlist, np.real(PEG_DL2), 'r--', linewidth=2, label=\"Analytic 2\")\n",
    "\n",
    "axes.set_xlabel(r't', fontsize=28)\n",
    "axes.legend(loc=0, fontsize=12)\n"
   ]
  },
  {
   "cell_type": "code",
   "execution_count": 34,
   "metadata": {},
   "outputs": [
    {
     "data": {
      "text/plain": [
       "<matplotlib.legend.Legend at 0x7f499c241cd0>"
      ]
     },
     "execution_count": 34,
     "metadata": {},
     "output_type": "execute_result"
    },
    {
     "data": {
      "image/png": "[encoded data removed]",
      "text/plain": [
       "<Figure size 576x576 with 1 Axes>"
      ]
     },
     "metadata": {
      "needs_background": "light"
     },
     "output_type": "display_data"
    }
   ],
   "source": [
    "\n",
    "#Logarithmic plot\n",
    "\n",
    "\n",
    "# Define some operators with which we will measure the system\n",
    "# 1,1 element of density matrix - corresonding to groundstate\n",
    "P11p=basis(2,0) * basis(2,0).dag()\n",
    "P22p=basis(2,1) * basis(2,1).dag()\n",
    "# 1,2 element of density matrix  - corresonding to coherence\n",
    "P12p=basis(2,0) * basis(2,1).dag()\n",
    "# Calculate expectation values in the bases\n",
    "P11expF = expect(resultFit.states, P11p)\n",
    "P22expF = expect(resultFit.states, P22p)\n",
    "P12expF = expect(resultFit.states, P12p)\n",
    "\n",
    "# Plot the results\n",
    "fig, axes = plt.subplots(1, 1, sharex=True, figsize=(8,8))\n",
    "\n",
    "axes.semilogy(tlist, np.real(P12exp), 'r', linewidth=2, label=\"P12 Mats\")\n",
    "axes.semilogy(tlist, np.real(P12expP), 'b--', linewidth=2, label=\"P12 Pade\")\n",
    "axes.semilogy(tlist, np.real(P12expF), 'g', linewidth=2, label=\"P12 Fit\")\n",
    "\n",
    "\n",
    "axes.semilogy(tlist, np.real(PEG_DL), 'b', linewidth=2, label=\"Analytic Sum\")\n",
    "axes.semilogy(tlist, np.real(PEG_DL2), 'y--',linewidth=2, label=\"Analytic Integral\")\n",
    "\n",
    "axes.set_xlabel(r't', fontsize=28)\n",
    "axes.legend(loc=0, fontsize=12)"
   ]
  },
  {
   "cell_type": "code",
   "execution_count": null,
   "metadata": {},
   "outputs": [],
   "source": []
  }
 ],
 "metadata": {
  "anaconda-cloud": {},
  "kernelspec": {
   "display_name": "Python 3",
   "language": "python",
   "name": "python3"
  },
  "language_info": {
   "codemirror_mode": {
    "name": "ipython",
    "version": 3
   },
   "file_extension": ".py",
   "mimetype": "text/x-python",
   "name": "python",
   "nbconvert_exporter": "python",
   "pygments_lexer": "ipython3",
   "version": "3.9.6"
  }
 },
 "nbformat": 4,
 "nbformat_minor": 1
}
